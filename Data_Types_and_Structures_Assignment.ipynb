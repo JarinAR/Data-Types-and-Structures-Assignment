{
  "nbformat": 4,
  "nbformat_minor": 0,
  "metadata": {
    "colab": {
      "provenance": []
    },
    "kernelspec": {
      "name": "python3",
      "display_name": "Python 3"
    },
    "language_info": {
      "name": "python"
    }
  },
  "cells": [
    {
      "cell_type": "markdown",
      "source": [
        "**Data Types and Structures Questions:**"
      ],
      "metadata": {
        "id": "m_xNHuaeiEGR"
      }
    },
    {
      "cell_type": "markdown",
      "source": [
        "**Q1.What are data structures, and why are they important?**"
      ],
      "metadata": {
        "id": "FlRnYddkiOk7"
      }
    },
    {
      "cell_type": "markdown",
      "source": [
        "Ans: Data structures are ways to organize and store data so that it can be accessed and manipulated efficiently. They define how data is stored and the operations that can be performed on it.\n",
        "\n",
        "### Data Structures in Python:\n",
        "- **Lists**: Ordered, mutable collections.\n",
        "- **Tuples**: Ordered, immutable collections.\n",
        "- **Sets**: Unordered collections of unique items.\n",
        "- **Dictionaries**: Key-value pairs for fast lookups.\n",
        "\n",
        "### Importance of Data Structure :\n",
        "- **Efficiency**: They allow for fast data access and manipulation.\n",
        "- **Optimal Performance**: Each structure is designed for specific tasks (e.g., dictionaries for fast lookups).\n",
        "- **Memory Management**: They help manage memory usage effectively.\n",
        "- **Problem Solving**: Many algorithms rely on specific data structures to solve problems efficiently.\n",
        "\n"
      ],
      "metadata": {
        "id": "mmwCw0ouimOM"
      }
    },
    {
      "cell_type": "markdown",
      "source": [
        "**Q2. Explain the difference between mutable and immutable data types with examples.**"
      ],
      "metadata": {
        "id": "r1iu4nSwjD75"
      }
    },
    {
      "cell_type": "markdown",
      "source": [
        "Ans: Mutable Data Types\n",
        "Mutable objects can be changed after they are created. This means their content can be modified, and these changes will reflect across all references to the object.\n",
        "\n",
        "Examples:\n",
        "Lists: my_list = [1, 2, 3]\n",
        "Dictionaries: my_dict = {'key': 'value'}\n",
        "Sets: my_set = {1, 2, 3}"
      ],
      "metadata": {
        "id": "GyTjm1tSjNL2"
      }
    },
    {
      "cell_type": "code",
      "source": [
        "my_list = [1, 2, 3]\n",
        "my_list[0] = 10\n",
        "print(my_list)\n"
      ],
      "metadata": {
        "colab": {
          "base_uri": "https://localhost:8080/"
        },
        "id": "cPd1oTxY_jkB",
        "outputId": "0b2b2486-89e6-43ed-878d-c5c8d161e9c5"
      },
      "execution_count": null,
      "outputs": [
        {
          "output_type": "stream",
          "name": "stdout",
          "text": [
            "[10, 2, 3]\n"
          ]
        }
      ]
    },
    {
      "cell_type": "markdown",
      "source": [
        "Immutable Data Types:\n",
        "\n",
        "Immutable objects cannot be changed after they are created. Any modification attempt creates a new object.\n",
        "\n",
        "Examples:\n",
        "Tuples: my_tuple = (1, 2, 3)\n",
        "Strings: my_string = \"hello\"\n",
        "Integers: my_int = 10"
      ],
      "metadata": {
        "id": "AVBPn7hI_wsL"
      }
    },
    {
      "cell_type": "code",
      "source": [
        "my_tuple = (1, 2, 3)\n",
        "\n"
      ],
      "metadata": {
        "id": "bvpGmWiA_72r"
      },
      "execution_count": null,
      "outputs": []
    },
    {
      "cell_type": "markdown",
      "source": [
        "**Q3.What are the main differences between lists and tuples in Python?**"
      ],
      "metadata": {
        "id": "S8W7J4WAjbmo"
      }
    },
    {
      "cell_type": "markdown",
      "source": [
        "Ans: The main differences between lists and tuples in Python are:\n",
        "\n",
        "1. **Mutability**:\n",
        "   - **List**: Mutable (can be modified after creation).\n",
        "   - **Tuple**: Immutable (cannot be modified after creation).\n",
        "\n",
        "2. **Syntax**:\n",
        "   - **List**: Defined using square brackets `[]`.\n",
        "   - **Tuple**: Defined using parentheses `()`.\n",
        "\n",
        "3. **Performance**:\n",
        "   - **List**: Slower due to its mutability.\n",
        "   - **Tuple**: Faster due to its immutability.\n",
        "\n",
        "4. **Use Case**:\n",
        "   - **List**: Used when you need a collection of items that may change.\n",
        "   - **Tuple**: Used when you need a fixed, unchangeable collection of items.\n",
        "\n",
        "5. **Methods**:\n",
        "   - **List**: Has more built-in methods (e.g., `append()`, `remove()`, etc.).\n",
        "   - **Tuple**: Has fewer methods, mostly for access (e.g., `count()`, `index()`).\n",
        "\n"
      ],
      "metadata": {
        "id": "1LiOFKEGjhNZ"
      }
    },
    {
      "cell_type": "markdown",
      "source": [
        "**Q4.Describe how dictionaries store data.**"
      ],
      "metadata": {
        "id": "oPyHi2egjws7"
      }
    },
    {
      "cell_type": "markdown",
      "source": [
        "Ans:Dictionaries in Python store data as key-value pairs. Each key is unique and maps to a value. Internally, dictionaries use hashing to quickly locate and retrieve values based on their keys, making lookups efficient (average O(1) time). Keys must be immutable (like strings, numbers, or tuples). Starting from Python 3.7, dictionaries maintain the insertion order of items."
      ],
      "metadata": {
        "id": "Hh5BF8n1j6C9"
      }
    },
    {
      "cell_type": "markdown",
      "source": [
        "**Q5.Why might you use a set instead of a list in Python?**"
      ],
      "metadata": {
        "id": "BxBnh_sdAcRA"
      }
    },
    {
      "cell_type": "markdown",
      "source": [
        "Ans: We might use a set instead of a list in Python for the following reasons:\n",
        "\n",
        "**Uniqueness:** Sets automatically remove duplicates, ensuring that only unique elements are stored.\n",
        "\n",
        "**Faster membership tests:** Checking if an item exists in a set is generally faster (O(1) on average) compared to a list (O(n)).\n",
        "\n",
        "**Set operations:** Sets support mathematical operations like union, intersection, and difference, which are not as straightforward with lists."
      ],
      "metadata": {
        "id": "BU_q8jBMApbw"
      }
    },
    {
      "cell_type": "code",
      "source": [
        "my_set = {1, 2, 3}\n",
        "my_set.add(2)\n",
        "print(my_set)\n"
      ],
      "metadata": {
        "colab": {
          "base_uri": "https://localhost:8080/"
        },
        "id": "PxPQO_fAA5Co",
        "outputId": "f9f11380-0e48-4340-a8d9-a452bcb9be63"
      },
      "execution_count": null,
      "outputs": [
        {
          "output_type": "stream",
          "name": "stdout",
          "text": [
            "{1, 2, 3}\n"
          ]
        }
      ]
    },
    {
      "cell_type": "markdown",
      "source": [
        "**Q6.What is a string in Python, and how is it different from a list?**"
      ],
      "metadata": {
        "id": "Efz1X7ktA_Cr"
      }
    },
    {
      "cell_type": "markdown",
      "source": [
        "Ans: A string in Python is a sequence of characters enclosed in single, double, or triple quotes (e.g., 'hello', \"world\"). Strings are immutable, meaning their content cannot be changed after they are created.\n",
        "\n",
        "Key Differences between Strings and Lists:\n",
        "\n",
        "**Mutability:**\n",
        "\n",
        "**String**: Immutable. You cannot modify individual characters of a string.\n",
        "List: Mutable. You can modify, add, or remove elements in a list.\n",
        "Data Types:\n",
        "\n",
        "**String:** Contains only characters (text data).\n",
        "List: Can contain elements of different data types (e.g., integers, strings, or other lists).\n",
        "Operations:\n",
        "\n",
        "**Strings** support string-specific operations like concatenation, slicing, and string formatting.\n",
        "Lists support operations like item assignment, appending, and removing elements.\n"
      ],
      "metadata": {
        "id": "suiDd9BkBQbL"
      }
    },
    {
      "cell_type": "markdown",
      "source": [
        "**Q7.How do tuples ensure data integrity in Python?**"
      ],
      "metadata": {
        "id": "Fvem8VIBBujT"
      }
    },
    {
      "cell_type": "markdown",
      "source": [
        "Ans:Tuples ensure data integrity in Python by being immutable, meaning their content cannot be changed after creation. Once a tuple is created, you cannot modify, add, or remove elements, which protects the data from accidental changes.\n",
        "\n",
        "This immutability makes tuples useful for storing constant values, ensuring that the data remains consistent and intact throughout the program."
      ],
      "metadata": {
        "id": "drboLFZTB4PL"
      }
    },
    {
      "cell_type": "code",
      "source": [
        "my_tuple = (1, 2, 3)"
      ],
      "metadata": {
        "id": "zKLZOdPuB__X"
      },
      "execution_count": null,
      "outputs": []
    },
    {
      "cell_type": "markdown",
      "source": [
        "**Q8.What is a hash table, and how does it relate to dictionaries in Python?**"
      ],
      "metadata": {
        "id": "ew5c7MCvCE8h"
      }
    },
    {
      "cell_type": "markdown",
      "source": [
        "Ans:\n",
        "A hash table is a data structure that stores data in key-value pairs, where each key is hashed into a unique index (a hash value) that determines where the corresponding value is stored in memory. This allows for fast lookups, insertions, and deletions (average O(1) time complexity).\n",
        "\n",
        "In Python, dictionaries are implemented using hash tables. When you add a key-value pair to a dictionary, Python hashes the key and stores the value at the computed index. This enables efficient access to values based on their keys."
      ],
      "metadata": {
        "id": "atWVx9_mCJ8I"
      }
    },
    {
      "cell_type": "code",
      "source": [
        "my_dict = {'name': 'Jarin', 'age': 25}"
      ],
      "metadata": {
        "id": "0JewrDkVCXwj"
      },
      "execution_count": null,
      "outputs": []
    },
    {
      "cell_type": "markdown",
      "source": [
        "**Q9.Can lists contain different data types in Python?**"
      ],
      "metadata": {
        "id": "RIl63EASCeQb"
      }
    },
    {
      "cell_type": "markdown",
      "source": [
        "Ans: Yes, lists in Python can contain different data types. A single list can hold a mix of integers, strings, floats, and even other lists or objects."
      ],
      "metadata": {
        "id": "qeHdvT2cFI4c"
      }
    },
    {
      "cell_type": "code",
      "source": [
        "my_list = [1, \"hello\", 3.14, [1, 2, 3]]"
      ],
      "metadata": {
        "id": "x8ukLGf9FWVw"
      },
      "execution_count": null,
      "outputs": []
    },
    {
      "cell_type": "markdown",
      "source": [
        "**Q10. Explain why strings are immutable in Python.**"
      ],
      "metadata": {
        "id": "2_aC8lE1Fazx"
      }
    },
    {
      "cell_type": "markdown",
      "source": [
        "Ans: Strings are immutable in Python to ensure data integrity and improve performance.\n",
        "\n",
        "**Data Integrity:** Once a string is created, it cannot be changed, preventing accidental modification of string data.\n",
        "\n",
        "**Efficiency:** Immutable objects are faster to manage and hash, allowing for optimizations in memory and performance, especially when strings are used as keys in dictionaries."
      ],
      "metadata": {
        "id": "AGyJpa6sFiAD"
      }
    },
    {
      "cell_type": "markdown",
      "source": [
        "**Q11.What advantages do dictionaries offer over lists for certain tasks?**"
      ],
      "metadata": {
        "id": "l5RDq1EmFxrI"
      }
    },
    {
      "cell_type": "markdown",
      "source": [
        "Ans: Dictionaries offer several advantages over lists for certain tasks:\n",
        "\n",
        "Fast Lookups: Accessing values by keys in a dictionary is much faster (O(1) average time complexity) compared to searching through a list (O(n)).\n",
        "\n",
        "Key-Value Pairs: Dictionaries allow you to store and retrieve data in key-value pairs, making them ideal for tasks like looking up information by a unique identifier (e.g., a name or ID).\n",
        "\n",
        "Uniqueness of Keys: Each key in a dictionary is unique, which automatically avoids duplicates."
      ],
      "metadata": {
        "id": "fTsOnUAtF-6c"
      }
    },
    {
      "cell_type": "markdown",
      "source": [
        "**Q12. Describe a scenario where using a tuple would be preferable over a list.**"
      ],
      "metadata": {
        "id": "TQ5Gvh_qGGu8"
      }
    },
    {
      "cell_type": "markdown",
      "source": [
        "Ans:Using a tuple is preferable over a list when we need to store constant data that should not be modified, ensuring data integrity. Tuples are ideal for situations where the data should remain unchanged, such as representing coordinates or settings that shouldn’t be altered during program execution."
      ],
      "metadata": {
        "id": "OVSNbK9VGM5z"
      }
    },
    {
      "cell_type": "code",
      "source": [
        "# Storing fixed geographic coordinates (latitude, longitude)\n",
        "coordinates = (40.7128, -74.0060)"
      ],
      "metadata": {
        "id": "PwCtDD2FGZG6"
      },
      "execution_count": null,
      "outputs": []
    },
    {
      "cell_type": "markdown",
      "source": [
        "**Q13.How do sets handle duplicate values in Python?**"
      ],
      "metadata": {
        "id": "E1W4ROP1GkYS"
      }
    },
    {
      "cell_type": "markdown",
      "source": [
        "Ans: Sets in Python automatically remove duplicate values. When we try to add a duplicate value to a set, it is ignored, ensuring that each element in the set is unique."
      ],
      "metadata": {
        "id": "RpRNXofwGp7p"
      }
    },
    {
      "cell_type": "code",
      "source": [
        "my_set = {1, 2, 3}\n",
        "my_set.add(2)\n",
        "print(my_set)\n"
      ],
      "metadata": {
        "colab": {
          "base_uri": "https://localhost:8080/"
        },
        "id": "SHasFZGAHAaO",
        "outputId": "cf632c4f-ba87-4e1b-f760-462bd54994e5"
      },
      "execution_count": null,
      "outputs": [
        {
          "output_type": "stream",
          "name": "stdout",
          "text": [
            "{1, 2, 3}\n"
          ]
        }
      ]
    },
    {
      "cell_type": "markdown",
      "source": [
        "**Q14.How does the “in” keyword work differently for lists and dictionaries?**"
      ],
      "metadata": {
        "id": "DPiaE_YcHH-q"
      }
    },
    {
      "cell_type": "markdown",
      "source": [
        "Ans: Lists: The in keyword checks if a value is present in the list. It searches through the list elements to see if the value exists (O(n) time complexity)."
      ],
      "metadata": {
        "id": "cn3xOX81HPhI"
      }
    },
    {
      "cell_type": "code",
      "source": [
        "my_list = [1, 2, 3]\n",
        "print(2 in my_list)"
      ],
      "metadata": {
        "colab": {
          "base_uri": "https://localhost:8080/"
        },
        "id": "pQPsQWu5HboB",
        "outputId": "72302f27-681e-4834-a0ac-3b6eccbbf13e"
      },
      "execution_count": null,
      "outputs": [
        {
          "output_type": "stream",
          "name": "stdout",
          "text": [
            "True\n"
          ]
        }
      ]
    },
    {
      "cell_type": "markdown",
      "source": [
        "Dictionaries: The in keyword checks if a key exists in the dictionary, not the value. It checks for the key's presence in the dictionary (O(1) time complexity)."
      ],
      "metadata": {
        "id": "6qwg8qqzHezF"
      }
    },
    {
      "cell_type": "code",
      "source": [
        "my_dict = {'name': 'Jarin', 'age': 30}\n",
        "print('name' in my_dict)"
      ],
      "metadata": {
        "colab": {
          "base_uri": "https://localhost:8080/"
        },
        "id": "jicTfWcgHiNN",
        "outputId": "764de4a8-69d1-4ffa-ae86-6f3a0b796a38"
      },
      "execution_count": null,
      "outputs": [
        {
          "output_type": "stream",
          "name": "stdout",
          "text": [
            "True\n"
          ]
        }
      ]
    },
    {
      "cell_type": "markdown",
      "source": [
        "**Q15.Can you modify the elements of a tuple? Explain why or why not?**"
      ],
      "metadata": {
        "id": "-NYSKLDOIYsU"
      }
    },
    {
      "cell_type": "markdown",
      "source": [
        "Ans: No, we can not modify the elements of a tuple because tuples are immutable in Python. Once a tuple is created, its elements cannot be changed, added, or removed. This immutability ensures data integrity and efficiency, especially when tuples are used as keys in dictionaries."
      ],
      "metadata": {
        "id": "sArh3QZnIc9k"
      }
    },
    {
      "cell_type": "code",
      "source": [
        "my_tuple = (1, 2, 3)\n",
        "# my_tuple[0] = 10  # This will raise a TypeError because tuples are immutable"
      ],
      "metadata": {
        "id": "n2L8VaB3Isd6"
      },
      "execution_count": null,
      "outputs": []
    },
    {
      "cell_type": "markdown",
      "source": [
        "**Q16.What is a nested dictionary, and give an example of its use case?**"
      ],
      "metadata": {
        "id": "Vg7KqM6tI2Ol"
      }
    },
    {
      "cell_type": "markdown",
      "source": [
        "Ans: A nested dictionary is a dictionary where the value of a key is another dictionary, allowing you to store complex, hierarchical data.\n",
        "\n",
        "Example Use Case:\n",
        "A nested dictionary can be used to store details of multiple students, where each student has their own set of attributes like name, age, and grades."
      ],
      "metadata": {
        "id": "puDiH8OFI-iY"
      }
    },
    {
      "cell_type": "code",
      "source": [
        "students = {\n",
        "    'student1': {'name': 'Alice', 'age': 20, 'grades': {'math': 90, 'english': 85}},\n",
        "    'student2': {'name': 'Bob', 'age': 22, 'grades': {'math': 78, 'english': 88}}\n",
        "}\n",
        "\n",
        "# Accessing nested data\n",
        "print(students['student1']['grades']['math'])"
      ],
      "metadata": {
        "colab": {
          "base_uri": "https://localhost:8080/"
        },
        "id": "p1YyreD6JSIG",
        "outputId": "d3b57b73-0264-4182-928d-95c63c3c2f98"
      },
      "execution_count": null,
      "outputs": [
        {
          "output_type": "stream",
          "name": "stdout",
          "text": [
            "90\n"
          ]
        }
      ]
    },
    {
      "cell_type": "markdown",
      "source": [
        "**Q17.Describe the time complexity of accessing elements in a dictionary.**"
      ],
      "metadata": {
        "id": "jDbrJbbkJXg_"
      }
    },
    {
      "cell_type": "markdown",
      "source": [
        "Ans: In Python, accessing elements in a dictionary has an average time complexity of O(1). This is because dictionaries are implemented using hash tables, and keys are hashed to quickly locate the corresponding value.\n",
        "\n",
        "However, in the worst case (such as when many keys hash to the same value), the time complexity can degrade to O(n), but this is rare due to Python's efficient handling of hash collisions.\n",
        "\n",
        "Example:"
      ],
      "metadata": {
        "id": "qtUMAmBaJeRi"
      }
    },
    {
      "cell_type": "code",
      "source": [
        "my_dict = {'name': 'Jarin', 'age': 30}\n",
        "print(my_dict['name'])"
      ],
      "metadata": {
        "colab": {
          "base_uri": "https://localhost:8080/"
        },
        "id": "xI58EbV2Jp74",
        "outputId": "6df1cee1-c77c-4314-db01-108da1c5997e"
      },
      "execution_count": null,
      "outputs": [
        {
          "output_type": "stream",
          "name": "stdout",
          "text": [
            "Jarin\n"
          ]
        }
      ]
    },
    {
      "cell_type": "markdown",
      "source": [
        "**Q18. In what situations are lists preferred over dictionaries?**"
      ],
      "metadata": {
        "id": "xPFEXX5mJ3oV"
      }
    },
    {
      "cell_type": "markdown",
      "source": [
        "Ans: Lists are preferred over dictionaries in Python when:\n",
        "\n",
        "Order matters: Lists maintain the order of elements, so if you need to preserve the sequence, a list is ideal.\n",
        "Index-based access: When you need to access elements by their position (index), lists are more efficient.\n",
        "Homogeneous data: When storing a collection of similar items (e.g., a list of numbers or strings), lists are simpler and more appropriate."
      ],
      "metadata": {
        "id": "eZBEOQ6fJ7v-"
      }
    },
    {
      "cell_type": "code",
      "source": [
        "my_list = [1, 2, 3, 4]\n",
        "# Accessing by index\n",
        "print(my_list[2])"
      ],
      "metadata": {
        "colab": {
          "base_uri": "https://localhost:8080/"
        },
        "id": "6MsnLOUTKDvk",
        "outputId": "9b185fdd-19cc-40fa-974d-e507df2b9452"
      },
      "execution_count": null,
      "outputs": [
        {
          "output_type": "stream",
          "name": "stdout",
          "text": [
            "3\n"
          ]
        }
      ]
    },
    {
      "cell_type": "markdown",
      "source": [
        "**Q19.Why are dictionaries considered unordered, and how does that affect data retrieval?**"
      ],
      "metadata": {
        "id": "ppGiYKQjKIJG"
      }
    },
    {
      "cell_type": "markdown",
      "source": [
        "Ans: Dictionaries in Python are considered unordered because they are designed for fast key-based access, not for maintaining order (though they maintain insertion order from Python 3.7). This means that while the order of items is preserved in recent versions, the focus is on efficient key-based lookups rather than order.\n",
        "\n",
        "Effect on data retrieval: You access values by key, not by index or order."
      ],
      "metadata": {
        "id": "oKtzrF02KM2b"
      }
    },
    {
      "cell_type": "code",
      "source": [
        "my_dict = {'a': 1, 'b': 2}\n",
        "print(my_dict['b'])"
      ],
      "metadata": {
        "colab": {
          "base_uri": "https://localhost:8080/"
        },
        "id": "8IoQgx00KaGe",
        "outputId": "559a941d-947b-4bed-bf5f-3b6a61381877"
      },
      "execution_count": null,
      "outputs": [
        {
          "output_type": "stream",
          "name": "stdout",
          "text": [
            "2\n"
          ]
        }
      ]
    },
    {
      "cell_type": "markdown",
      "source": [
        "**Q20.Explain the difference between a list and a dictionary in terms of data retrieval.**"
      ],
      "metadata": {
        "id": "MrQcQWF9Kedl"
      }
    },
    {
      "cell_type": "markdown",
      "source": [
        "Ans: The key difference between a list and a dictionary in terms of data retrieval is:\n",
        "\n",
        "List: Data is retrieved by index (position in the list), and the elements are ordered. Access time is O(1) for indexing but searching for a specific element takes O(n) time.\n",
        "\n",
        "Dictionary: Data is retrieved by key, and keys are unique. Access time is O(1) on average for key-based lookups due to hashing."
      ],
      "metadata": {
        "id": "1qRtUQtqKmIF"
      }
    },
    {
      "cell_type": "code",
      "source": [
        "# List\n",
        "my_list = [10, 20, 30]\n",
        "print(my_list[1])\n",
        "\n",
        "# Dictionary\n",
        "my_dict = {'a': 1, 'b': 2}\n",
        "print(my_dict['b'])"
      ],
      "metadata": {
        "colab": {
          "base_uri": "https://localhost:8080/"
        },
        "id": "Nw7FD_lzKuH2",
        "outputId": "9ee1639d-c971-431f-cb02-89f24670d6a8"
      },
      "execution_count": null,
      "outputs": [
        {
          "output_type": "stream",
          "name": "stdout",
          "text": [
            "20\n",
            "2\n"
          ]
        }
      ]
    },
    {
      "cell_type": "markdown",
      "source": [
        "**Practical Questions:**"
      ],
      "metadata": {
        "id": "ZZAfrrkzK00D"
      }
    },
    {
      "cell_type": "markdown",
      "source": [
        "**Q1.Write a code to create a string with your name and print it.**"
      ],
      "metadata": {
        "id": "-OXX5glcK9js"
      }
    },
    {
      "cell_type": "code",
      "source": [
        "name = \"Jarin\"\n",
        "print(name)"
      ],
      "metadata": {
        "colab": {
          "base_uri": "https://localhost:8080/"
        },
        "id": "tPQcY-YXLDrB",
        "outputId": "074c4728-3510-483a-d83f-6af7989a4cbe"
      },
      "execution_count": null,
      "outputs": [
        {
          "output_type": "stream",
          "name": "stdout",
          "text": [
            "Jarin\n"
          ]
        }
      ]
    },
    {
      "cell_type": "markdown",
      "source": [
        "**Q2.Write a code to find the length of the string \"Hello World\".**"
      ],
      "metadata": {
        "id": "DRrSPCZBL1YU"
      }
    },
    {
      "cell_type": "code",
      "source": [
        "text = \"Hello World\"\n",
        "length = len(text)\n",
        "print(\"The length of the string is:\", length)"
      ],
      "metadata": {
        "colab": {
          "base_uri": "https://localhost:8080/"
        },
        "id": "YGkt6yCHL42-",
        "outputId": "dd5fcfcd-7dde-4402-949f-d34082234c5d"
      },
      "execution_count": null,
      "outputs": [
        {
          "output_type": "stream",
          "name": "stdout",
          "text": [
            "The length of the string is: 11\n"
          ]
        }
      ]
    },
    {
      "cell_type": "markdown",
      "source": [
        "**Q3.Write a code to slice the first 3 characters from the string \"Python Programming\"**"
      ],
      "metadata": {
        "id": "pnS17vd1MPZR"
      }
    },
    {
      "cell_type": "code",
      "source": [
        "text = \"Python Programming\"\n",
        "sliced_text = text[:3]\n",
        "print(sliced_text)"
      ],
      "metadata": {
        "colab": {
          "base_uri": "https://localhost:8080/"
        },
        "id": "bTQY55kTMxmG",
        "outputId": "ea927e52-ab16-4327-c294-d5f8873824da"
      },
      "execution_count": null,
      "outputs": [
        {
          "output_type": "stream",
          "name": "stdout",
          "text": [
            "Pyt\n"
          ]
        }
      ]
    },
    {
      "cell_type": "markdown",
      "source": [
        "**Q4.Write a code to convert the string \"hello\" to uppercase.**"
      ],
      "metadata": {
        "id": "bclF7otONAH2"
      }
    },
    {
      "cell_type": "code",
      "source": [
        "text = \"hello\"\n",
        "uppercase_text = text.upper()\n",
        "print(uppercase_text)"
      ],
      "metadata": {
        "colab": {
          "base_uri": "https://localhost:8080/"
        },
        "id": "m9ZgMQ0KNIep",
        "outputId": "8f942618-df13-40b3-8960-a3d100a51c0e"
      },
      "execution_count": null,
      "outputs": [
        {
          "output_type": "stream",
          "name": "stdout",
          "text": [
            "HELLO\n"
          ]
        }
      ]
    },
    {
      "cell_type": "markdown",
      "source": [
        "**Q5.Write a code to replace the word \"apple\" with \"orange\" in the string \"I like apple\"**"
      ],
      "metadata": {
        "id": "yN2lZr8hNV7N"
      }
    },
    {
      "cell_type": "code",
      "source": [
        "text = \"I like apple\"\n",
        "replaced_text = text.replace(\"apple\", \"orange\")\n",
        "print(replaced_text)"
      ],
      "metadata": {
        "colab": {
          "base_uri": "https://localhost:8080/"
        },
        "id": "OD6KEEt-Nbdo",
        "outputId": "8983dbf8-9a30-4732-8177-a1a7522031bc"
      },
      "execution_count": null,
      "outputs": [
        {
          "output_type": "stream",
          "name": "stdout",
          "text": [
            "I like orange\n"
          ]
        }
      ]
    },
    {
      "cell_type": "markdown",
      "source": [
        "**Q6.Write a code to create a list with numbers 1 to 5 and print it.**"
      ],
      "metadata": {
        "id": "ik5x8ma_NseJ"
      }
    },
    {
      "cell_type": "code",
      "source": [
        "numbers = [1, 2, 3, 4, 5]\n",
        "print(numbers)"
      ],
      "metadata": {
        "colab": {
          "base_uri": "https://localhost:8080/"
        },
        "id": "J4uprBkrP19E",
        "outputId": "b0743a80-058d-417d-edfc-850b5a4b0c58"
      },
      "execution_count": null,
      "outputs": [
        {
          "output_type": "stream",
          "name": "stdout",
          "text": [
            "[1, 2, 3, 4, 5]\n"
          ]
        }
      ]
    },
    {
      "cell_type": "markdown",
      "source": [
        "**Q7.Write a code to append the number 10 to the list [1, 2, 3, 4].**"
      ],
      "metadata": {
        "id": "Bez1-DrPQDQN"
      }
    },
    {
      "cell_type": "code",
      "source": [
        "numbers = [1, 2, 3, 4]\n",
        "numbers.append(10)\n",
        "print(numbers)"
      ],
      "metadata": {
        "colab": {
          "base_uri": "https://localhost:8080/"
        },
        "id": "QRR_1-6IQLJm",
        "outputId": "2efa6610-557f-4602-9eef-7d9b68ccdd2b"
      },
      "execution_count": null,
      "outputs": [
        {
          "output_type": "stream",
          "name": "stdout",
          "text": [
            "[1, 2, 3, 4, 10]\n"
          ]
        }
      ]
    },
    {
      "cell_type": "markdown",
      "source": [
        "**Q8.Write a code to remove the number 3 from the list [1, 2, 3, 4, 5].**"
      ],
      "metadata": {
        "id": "g3WaI2TyQdOb"
      }
    },
    {
      "cell_type": "code",
      "source": [
        "numbers = [1, 2, 3, 4, 5]\n",
        "numbers.remove(3)\n",
        "print(numbers)"
      ],
      "metadata": {
        "colab": {
          "base_uri": "https://localhost:8080/"
        },
        "id": "MMEeA3CZQkvL",
        "outputId": "52e05ed0-1318-4afd-9950-532a2d8b91a5"
      },
      "execution_count": null,
      "outputs": [
        {
          "output_type": "stream",
          "name": "stdout",
          "text": [
            "[1, 2, 4, 5]\n"
          ]
        }
      ]
    },
    {
      "cell_type": "markdown",
      "source": [
        "**Q9.Write a code to access the second element in the list ['a', 'b', 'c', 'd'].**"
      ],
      "metadata": {
        "id": "NghN2nPfQ2Pw"
      }
    },
    {
      "cell_type": "code",
      "source": [
        "letters = ['a', 'b', 'c', 'd']\n",
        "second_element = letters[1]\n",
        "print(second_element)"
      ],
      "metadata": {
        "colab": {
          "base_uri": "https://localhost:8080/"
        },
        "id": "FPq_PNJsRISq",
        "outputId": "6345a9bb-49ca-4f80-8811-d8d41714124e"
      },
      "execution_count": null,
      "outputs": [
        {
          "output_type": "stream",
          "name": "stdout",
          "text": [
            "b\n"
          ]
        }
      ]
    },
    {
      "cell_type": "markdown",
      "source": [
        "**Q10.Write a code to reverse the list [10, 20, 30, 40, 50].**"
      ],
      "metadata": {
        "id": "dVhBiMBnRZq6"
      }
    },
    {
      "cell_type": "code",
      "source": [
        "numbers = [10, 20, 30, 40, 50]\n",
        "reversed_numbers = numbers[::-1]\n",
        "print(reversed_numbers)"
      ],
      "metadata": {
        "colab": {
          "base_uri": "https://localhost:8080/"
        },
        "id": "ys1yKSJzRhQB",
        "outputId": "4d4fd426-40aa-49f9-df8d-1b263e10446d"
      },
      "execution_count": null,
      "outputs": [
        {
          "output_type": "stream",
          "name": "stdout",
          "text": [
            "[50, 40, 30, 20, 10]\n"
          ]
        }
      ]
    },
    {
      "cell_type": "markdown",
      "source": [
        "**Q11.Write a code to create a tuple with the elements 10, 20, 30 and print it.**"
      ],
      "metadata": {
        "id": "D43uzwgySLrd"
      }
    },
    {
      "cell_type": "code",
      "source": [
        "my_tuple = (10, 20, 30)\n",
        "print(my_tuple)"
      ],
      "metadata": {
        "colab": {
          "base_uri": "https://localhost:8080/"
        },
        "id": "0mU79QUDSViC",
        "outputId": "f57194f4-0e21-4d40-d0ac-1c039bd0d4c8"
      },
      "execution_count": null,
      "outputs": [
        {
          "output_type": "stream",
          "name": "stdout",
          "text": [
            "(10, 20, 30)\n"
          ]
        }
      ]
    },
    {
      "cell_type": "markdown",
      "source": [
        "**Q12. Write a code to access the first element of the tuple ('apple', 'banana', 'cherry').**"
      ],
      "metadata": {
        "id": "cDzsnrFfX8f4"
      }
    },
    {
      "cell_type": "code",
      "source": [
        "fruits = ('apple', 'banana', 'cherry')\n",
        "first_element = fruits[0]\n",
        "print(first_element)"
      ],
      "metadata": {
        "colab": {
          "base_uri": "https://localhost:8080/"
        },
        "id": "lYVgpdQbYDCv",
        "outputId": "c4a4fba1-fafc-42a9-c527-a96b8916d84e"
      },
      "execution_count": null,
      "outputs": [
        {
          "output_type": "stream",
          "name": "stdout",
          "text": [
            "apple\n"
          ]
        }
      ]
    },
    {
      "cell_type": "markdown",
      "source": [
        "**Q13. Write a code to count how many times the number 2 appears in the tuple (1, 2, 3, 2, 4, 2).**"
      ],
      "metadata": {
        "id": "kc-Sp_L_YOpY"
      }
    },
    {
      "cell_type": "code",
      "source": [
        "numbers = (1, 2, 3, 2, 4, 2)\n",
        "count_of_2 = numbers.count(2)\n",
        "print(count_of_2)"
      ],
      "metadata": {
        "colab": {
          "base_uri": "https://localhost:8080/"
        },
        "id": "G-_ZPj9SYeVw",
        "outputId": "b1650e15-d675-4464-c11c-535ada0b5e98"
      },
      "execution_count": null,
      "outputs": [
        {
          "output_type": "stream",
          "name": "stdout",
          "text": [
            "3\n"
          ]
        }
      ]
    },
    {
      "cell_type": "markdown",
      "source": [
        "**Q14. Write a code to find the index of the element \"cat\" in the tuple ('dog', 'cat', 'rabbit').**"
      ],
      "metadata": {
        "id": "nt337U11Yql9"
      }
    },
    {
      "cell_type": "code",
      "source": [
        "animals = ('dog', 'cat', 'rabbit')\n",
        "index_of_cat = animals.index('cat')\n",
        "print(index_of_cat)"
      ],
      "metadata": {
        "colab": {
          "base_uri": "https://localhost:8080/"
        },
        "id": "s5zIO0m5Y39d",
        "outputId": "fe872893-85b9-4a92-afa0-a4870ba2b28d"
      },
      "execution_count": null,
      "outputs": [
        {
          "output_type": "stream",
          "name": "stdout",
          "text": [
            "1\n"
          ]
        }
      ]
    },
    {
      "cell_type": "markdown",
      "source": [
        "**Q15.Write a code to check if the element \"banana\" is in the tuple ('apple', 'orange', 'banana')**"
      ],
      "metadata": {
        "id": "82dWzR9AZG6s"
      }
    },
    {
      "cell_type": "code",
      "source": [
        "fruits = ('apple', 'orange', 'banana')\n",
        "if 'banana' in fruits:\n",
        "    print(\"Banana is in the tuple.\")\n",
        "else:\n",
        "    print(\"Banana is not in the tuple.\")"
      ],
      "metadata": {
        "colab": {
          "base_uri": "https://localhost:8080/"
        },
        "id": "qju54WINZL15",
        "outputId": "1e46a254-40d1-485f-8ad7-a2e19830305c"
      },
      "execution_count": null,
      "outputs": [
        {
          "output_type": "stream",
          "name": "stdout",
          "text": [
            "Banana is in the tuple.\n"
          ]
        }
      ]
    },
    {
      "cell_type": "markdown",
      "source": [
        "**Q16. Write a code to create a set with the elements 1, 2, 3, 4, 5 and print it.**"
      ],
      "metadata": {
        "id": "_MOkkfspmQ1S"
      }
    },
    {
      "cell_type": "code",
      "source": [
        "my_set = {1, 2, 3, 4, 5}\n",
        "print(my_set)"
      ],
      "metadata": {
        "colab": {
          "base_uri": "https://localhost:8080/"
        },
        "id": "dqYLQ2EAm3Lz",
        "outputId": "ae0b487e-30fa-4c85-993b-c50298bd9c95"
      },
      "execution_count": null,
      "outputs": [
        {
          "output_type": "stream",
          "name": "stdout",
          "text": [
            "{1, 2, 3, 4, 5}\n"
          ]
        }
      ]
    },
    {
      "cell_type": "markdown",
      "source": [
        "**Q17. Write a code to add the element 6 to the set {1, 2, 3, 4}.**"
      ],
      "metadata": {
        "id": "3zyD9taunLyI"
      }
    },
    {
      "cell_type": "code",
      "source": [
        "my_set = {1, 2, 3, 4}\n",
        "my_set.add(6)\n",
        "print(my_set)"
      ],
      "metadata": {
        "colab": {
          "base_uri": "https://localhost:8080/"
        },
        "id": "r1Z49llQnUwB",
        "outputId": "72b83f2c-f997-46fa-dce5-57418a1dc263"
      },
      "execution_count": null,
      "outputs": [
        {
          "output_type": "stream",
          "name": "stdout",
          "text": [
            "{1, 2, 3, 4, 6}\n"
          ]
        }
      ]
    },
    {
      "cell_type": "markdown",
      "source": [
        "**Q18.Write a code to create a tuple with the elements 10, 20, 30 and print it.**"
      ],
      "metadata": {
        "id": "b_8dS5rmne3n"
      }
    },
    {
      "cell_type": "code",
      "source": [
        "my_tuple = (10, 20, 30)\n",
        "print(my_tuple)"
      ],
      "metadata": {
        "colab": {
          "base_uri": "https://localhost:8080/"
        },
        "id": "JKSYGmoUnnMf",
        "outputId": "732a86a5-a77d-4caf-cb19-bb33b7f33e52"
      },
      "execution_count": null,
      "outputs": [
        {
          "output_type": "stream",
          "name": "stdout",
          "text": [
            "(10, 20, 30)\n"
          ]
        }
      ]
    },
    {
      "cell_type": "markdown",
      "source": [
        "**Q19. Write a code to access the first element of the tuple ('apple', 'banana', 'cherry')**"
      ],
      "metadata": {
        "id": "-u4PerJsnxA0"
      }
    },
    {
      "cell_type": "code",
      "source": [
        "my_tuple = ('apple', 'banana', 'cherry')\n",
        "first_element = my_tuple[0]\n",
        "print(first_element)"
      ],
      "metadata": {
        "colab": {
          "base_uri": "https://localhost:8080/"
        },
        "id": "UQQrAUr6n4Gh",
        "outputId": "fd803ec4-37b4-4d04-f670-f4c16d1e0ef7"
      },
      "execution_count": null,
      "outputs": [
        {
          "output_type": "stream",
          "name": "stdout",
          "text": [
            "apple\n"
          ]
        }
      ]
    },
    {
      "cell_type": "markdown",
      "source": [
        "**Q20. Write a code to count how many times the number 2 appears in the tuple (1, 2, 3, 2, 4, 2).**"
      ],
      "metadata": {
        "id": "k0tekebxoGLd"
      }
    },
    {
      "cell_type": "code",
      "source": [
        "my_tuple = (1, 2, 3, 2, 4, 2)\n",
        "count_2 = my_tuple.count(2)\n",
        "print(count_2)"
      ],
      "metadata": {
        "colab": {
          "base_uri": "https://localhost:8080/"
        },
        "id": "qZc2a0BdoO-6",
        "outputId": "6d32d099-f95b-42f9-ca17-e7863b16102a"
      },
      "execution_count": null,
      "outputs": [
        {
          "output_type": "stream",
          "name": "stdout",
          "text": [
            "3\n"
          ]
        }
      ]
    },
    {
      "cell_type": "markdown",
      "source": [
        "**Q21.Write a code to find the index of the element \"cat\" in the tuple ('dog', 'cat', 'rabbit').**"
      ],
      "metadata": {
        "id": "8XUnwNIZoYCJ"
      }
    },
    {
      "cell_type": "code",
      "source": [
        "my_tuple = ('dog', 'cat', 'rabbit')\n",
        "index_of_cat = my_tuple.index('cat')\n",
        "print(index_of_cat)"
      ],
      "metadata": {
        "colab": {
          "base_uri": "https://localhost:8080/"
        },
        "id": "Qg8CEVBZoej6",
        "outputId": "41604aab-267c-4118-ee40-75290d091f97"
      },
      "execution_count": null,
      "outputs": [
        {
          "output_type": "stream",
          "name": "stdout",
          "text": [
            "1\n"
          ]
        }
      ]
    },
    {
      "cell_type": "markdown",
      "source": [
        "**Q22. Write a code to check if the element \"banana\" is in the tuple ('apple', 'orange', 'banana')**"
      ],
      "metadata": {
        "id": "vtgYs0iTooeR"
      }
    },
    {
      "cell_type": "code",
      "source": [
        "my_tuple = ('apple', 'orange', 'banana')\n",
        "if 'banana' in my_tuple:\n",
        "    print(\"Banana is in the tuple.\")\n",
        "else:\n",
        "    print(\"Banana is not in the tuple.\")"
      ],
      "metadata": {
        "colab": {
          "base_uri": "https://localhost:8080/"
        },
        "id": "dSvDQwP_oy5P",
        "outputId": "2f582e08-ff91-4842-c633-c9d558cda144"
      },
      "execution_count": null,
      "outputs": [
        {
          "output_type": "stream",
          "name": "stdout",
          "text": [
            "Banana is in the tuple.\n"
          ]
        }
      ]
    },
    {
      "cell_type": "markdown",
      "source": [
        "**Q23.Write a code to create a set with the elements 1, 2, 3, 4, 5 and print it.**"
      ],
      "metadata": {
        "id": "ItrgpgsJo-JB"
      }
    },
    {
      "cell_type": "code",
      "source": [
        "my_set = {1, 2, 3, 4, 5}\n",
        "print(my_set)"
      ],
      "metadata": {
        "colab": {
          "base_uri": "https://localhost:8080/"
        },
        "id": "8DZdG8BvpFJf",
        "outputId": "b963ae7c-0a80-4b5a-a8f2-212d2db352f3"
      },
      "execution_count": null,
      "outputs": [
        {
          "output_type": "stream",
          "name": "stdout",
          "text": [
            "{1, 2, 3, 4, 5}\n"
          ]
        }
      ]
    },
    {
      "cell_type": "markdown",
      "source": [
        "**Q24.Write a code to add the element 6 to the set {1, 2, 3, 4}.**"
      ],
      "metadata": {
        "id": "_pwOPMvrpPd5"
      }
    },
    {
      "cell_type": "code",
      "source": [
        "my_set = {1, 2, 3, 4}\n",
        "my_set.add(6)\n",
        "print(my_set)"
      ],
      "metadata": {
        "colab": {
          "base_uri": "https://localhost:8080/"
        },
        "id": "nHoz-hNcpVQ4",
        "outputId": "6a4f9403-9d50-4cf2-dfd8-678325a182fc"
      },
      "execution_count": null,
      "outputs": [
        {
          "output_type": "stream",
          "name": "stdout",
          "text": [
            "{1, 2, 3, 4, 6}\n"
          ]
        }
      ]
    },
    {
      "cell_type": "markdown",
      "source": [],
      "metadata": {
        "id": "DkSIxdRpQY7H"
      }
    },
    {
      "cell_type": "code",
      "execution_count": null,
      "metadata": {
        "id": "AylNAQ8Hhhif"
      },
      "outputs": [],
      "source": []
    },
    {
      "cell_type": "markdown",
      "source": [],
      "metadata": {
        "id": "IL6prduNiCJW"
      }
    }
  ]
}